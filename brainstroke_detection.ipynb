{
  "cells": [
    {
      "cell_type": "markdown",
      "metadata": {
        "id": "view-in-github",
        "colab_type": "text"
      },
      "source": [
        "<a href=\"https://colab.research.google.com/github/sneha-002/Brain-Stroke-Detection/blob/main/brainstroke_detection.ipynb\" target=\"_parent\"><img src=\"https://colab.research.google.com/assets/colab-badge.svg\" alt=\"Open In Colab\"/></a>"
      ]
    },
    {
      "cell_type": "code",
      "execution_count": null,
      "metadata": {
        "id": "61j90HqRzaVY"
      },
      "outputs": [],
      "source": [
        "import numpy as np\n",
        "import matplotlib.pyplot as plt\n",
        "import cv2\n",
        "import os\n",
        "from os import listdir\n",
        "import tensorflow as tf\n",
        "\n",
        "\n",
        "from tensorflow.keras.models import Sequential\n",
        "from tensorflow.keras.optimizers import Adam\n",
        "from sklearn.model_selection import train_test_split\n",
        "from sklearn.metrics import f1_score\n",
        "from sklearn.utils import shuffle\n",
        "from keras.models import *\n",
        "from keras.layers import *\n",
        "from keras import *\n",
        "from tensorflow import keras\n",
        "from tensorflow.keras import layers\n",
        "from PIL import Image, ImageOps\n",
        "from keras.models import Model, load_model\n",
        "from keras.layers import Input ,BatchNormalization , Activation\n",
        "from keras.layers.convolutional import Conv2D, UpSampling2D\n",
        "from keras.layers.pooling import MaxPooling2D\n",
        "from keras import optimizers\n",
        "from tensorflow.keras.utils import to_categorical\n",
        "import keras.backend as K\n",
        "from tensorflow.keras.callbacks import ModelCheckpoint, ReduceLROnPlateau, LearningRateScheduler"
      ]
    },
    {
      "cell_type": "markdown",
      "metadata": {
        "id": "wWEJbDVkYgDh"
      },
      "source": [
        "LOADING DATA"
      ]
    },
    {
      "cell_type": "code",
      "execution_count": null,
      "metadata": {
        "colab": {
          "base_uri": "https://localhost:8080/",
          "height": 90
        },
        "id": "0UBI01O50Ko0",
        "outputId": "6c7ae0d7-476b-4ca8-9eac-c45b41b529f1"
      },
      "outputs": [
        {
          "output_type": "display_data",
          "data": {
            "text/plain": [
              "<IPython.core.display.HTML object>"
            ],
            "text/html": [
              "\n",
              "     <input type=\"file\" id=\"files-e74953f9-3add-41c5-bd1c-1ee3a5495675\" name=\"files[]\" multiple disabled\n",
              "        style=\"border:none\" />\n",
              "     <output id=\"result-e74953f9-3add-41c5-bd1c-1ee3a5495675\">\n",
              "      Upload widget is only available when the cell has been executed in the\n",
              "      current browser session. Please rerun this cell to enable.\n",
              "      </output>\n",
              "      <script>// Copyright 2017 Google LLC\n",
              "//\n",
              "// Licensed under the Apache License, Version 2.0 (the \"License\");\n",
              "// you may not use this file except in compliance with the License.\n",
              "// You may obtain a copy of the License at\n",
              "//\n",
              "//      http://www.apache.org/licenses/LICENSE-2.0\n",
              "//\n",
              "// Unless required by applicable law or agreed to in writing, software\n",
              "// distributed under the License is distributed on an \"AS IS\" BASIS,\n",
              "// WITHOUT WARRANTIES OR CONDITIONS OF ANY KIND, either express or implied.\n",
              "// See the License for the specific language governing permissions and\n",
              "// limitations under the License.\n",
              "\n",
              "/**\n",
              " * @fileoverview Helpers for google.colab Python module.\n",
              " */\n",
              "(function(scope) {\n",
              "function span(text, styleAttributes = {}) {\n",
              "  const element = document.createElement('span');\n",
              "  element.textContent = text;\n",
              "  for (const key of Object.keys(styleAttributes)) {\n",
              "    element.style[key] = styleAttributes[key];\n",
              "  }\n",
              "  return element;\n",
              "}\n",
              "\n",
              "// Max number of bytes which will be uploaded at a time.\n",
              "const MAX_PAYLOAD_SIZE = 100 * 1024;\n",
              "\n",
              "function _uploadFiles(inputId, outputId) {\n",
              "  const steps = uploadFilesStep(inputId, outputId);\n",
              "  const outputElement = document.getElementById(outputId);\n",
              "  // Cache steps on the outputElement to make it available for the next call\n",
              "  // to uploadFilesContinue from Python.\n",
              "  outputElement.steps = steps;\n",
              "\n",
              "  return _uploadFilesContinue(outputId);\n",
              "}\n",
              "\n",
              "// This is roughly an async generator (not supported in the browser yet),\n",
              "// where there are multiple asynchronous steps and the Python side is going\n",
              "// to poll for completion of each step.\n",
              "// This uses a Promise to block the python side on completion of each step,\n",
              "// then passes the result of the previous step as the input to the next step.\n",
              "function _uploadFilesContinue(outputId) {\n",
              "  const outputElement = document.getElementById(outputId);\n",
              "  const steps = outputElement.steps;\n",
              "\n",
              "  const next = steps.next(outputElement.lastPromiseValue);\n",
              "  return Promise.resolve(next.value.promise).then((value) => {\n",
              "    // Cache the last promise value to make it available to the next\n",
              "    // step of the generator.\n",
              "    outputElement.lastPromiseValue = value;\n",
              "    return next.value.response;\n",
              "  });\n",
              "}\n",
              "\n",
              "/**\n",
              " * Generator function which is called between each async step of the upload\n",
              " * process.\n",
              " * @param {string} inputId Element ID of the input file picker element.\n",
              " * @param {string} outputId Element ID of the output display.\n",
              " * @return {!Iterable<!Object>} Iterable of next steps.\n",
              " */\n",
              "function* uploadFilesStep(inputId, outputId) {\n",
              "  const inputElement = document.getElementById(inputId);\n",
              "  inputElement.disabled = false;\n",
              "\n",
              "  const outputElement = document.getElementById(outputId);\n",
              "  outputElement.innerHTML = '';\n",
              "\n",
              "  const pickedPromise = new Promise((resolve) => {\n",
              "    inputElement.addEventListener('change', (e) => {\n",
              "      resolve(e.target.files);\n",
              "    });\n",
              "  });\n",
              "\n",
              "  const cancel = document.createElement('button');\n",
              "  inputElement.parentElement.appendChild(cancel);\n",
              "  cancel.textContent = 'Cancel upload';\n",
              "  const cancelPromise = new Promise((resolve) => {\n",
              "    cancel.onclick = () => {\n",
              "      resolve(null);\n",
              "    };\n",
              "  });\n",
              "\n",
              "  // Wait for the user to pick the files.\n",
              "  const files = yield {\n",
              "    promise: Promise.race([pickedPromise, cancelPromise]),\n",
              "    response: {\n",
              "      action: 'starting',\n",
              "    }\n",
              "  };\n",
              "\n",
              "  cancel.remove();\n",
              "\n",
              "  // Disable the input element since further picks are not allowed.\n",
              "  inputElement.disabled = true;\n",
              "\n",
              "  if (!files) {\n",
              "    return {\n",
              "      response: {\n",
              "        action: 'complete',\n",
              "      }\n",
              "    };\n",
              "  }\n",
              "\n",
              "  for (const file of files) {\n",
              "    const li = document.createElement('li');\n",
              "    li.append(span(file.name, {fontWeight: 'bold'}));\n",
              "    li.append(span(\n",
              "        `(${file.type || 'n/a'}) - ${file.size} bytes, ` +\n",
              "        `last modified: ${\n",
              "            file.lastModifiedDate ? file.lastModifiedDate.toLocaleDateString() :\n",
              "                                    'n/a'} - `));\n",
              "    const percent = span('0% done');\n",
              "    li.appendChild(percent);\n",
              "\n",
              "    outputElement.appendChild(li);\n",
              "\n",
              "    const fileDataPromise = new Promise((resolve) => {\n",
              "      const reader = new FileReader();\n",
              "      reader.onload = (e) => {\n",
              "        resolve(e.target.result);\n",
              "      };\n",
              "      reader.readAsArrayBuffer(file);\n",
              "    });\n",
              "    // Wait for the data to be ready.\n",
              "    let fileData = yield {\n",
              "      promise: fileDataPromise,\n",
              "      response: {\n",
              "        action: 'continue',\n",
              "      }\n",
              "    };\n",
              "\n",
              "    // Use a chunked sending to avoid message size limits. See b/62115660.\n",
              "    let position = 0;\n",
              "    do {\n",
              "      const length = Math.min(fileData.byteLength - position, MAX_PAYLOAD_SIZE);\n",
              "      const chunk = new Uint8Array(fileData, position, length);\n",
              "      position += length;\n",
              "\n",
              "      const base64 = btoa(String.fromCharCode.apply(null, chunk));\n",
              "      yield {\n",
              "        response: {\n",
              "          action: 'append',\n",
              "          file: file.name,\n",
              "          data: base64,\n",
              "        },\n",
              "      };\n",
              "\n",
              "      let percentDone = fileData.byteLength === 0 ?\n",
              "          100 :\n",
              "          Math.round((position / fileData.byteLength) * 100);\n",
              "      percent.textContent = `${percentDone}% done`;\n",
              "\n",
              "    } while (position < fileData.byteLength);\n",
              "  }\n",
              "\n",
              "  // All done.\n",
              "  yield {\n",
              "    response: {\n",
              "      action: 'complete',\n",
              "    }\n",
              "  };\n",
              "}\n",
              "\n",
              "scope.google = scope.google || {};\n",
              "scope.google.colab = scope.google.colab || {};\n",
              "scope.google.colab._files = {\n",
              "  _uploadFiles,\n",
              "  _uploadFilesContinue,\n",
              "};\n",
              "})(self);\n",
              "</script> "
            ]
          },
          "metadata": {}
        },
        {
          "output_type": "stream",
          "name": "stdout",
          "text": [
            "Saving kaggle.json to kaggle.json\n"
          ]
        },
        {
          "output_type": "execute_result",
          "data": {
            "text/plain": [
              "{'kaggle.json': b'{\"username\":\"sowmyareddy09\",\"key\":\"c68950e9ba387ba271ad613d97be364c\"}'}"
            ]
          },
          "metadata": {},
          "execution_count": 2
        }
      ],
      "source": [
        "!pip install -q kaggle\n",
        "from google.colab import files\n",
        "files.upload()"
      ]
    },
    {
      "cell_type": "markdown",
      "metadata": {
        "id": "bZTRHOexYl1X"
      },
      "source": [
        "IMPORTING LIBRARIES"
      ]
    },
    {
      "cell_type": "code",
      "execution_count": null,
      "metadata": {
        "id": "qH8j7LQZ8OHu"
      },
      "outputs": [],
      "source": [
        "! mkdir ~/.kaggle\n",
        "!cp kaggle.json ~/.kaggle/\n",
        "! chmod 600 ~/.kaggle/kaggle.json\n",
        "! kaggle datasets download -d rizwanulhoqueratul/brain-mri-data"
      ]
    },
    {
      "cell_type": "code",
      "execution_count": null,
      "metadata": {
        "id": "YWcNXYKd_Ae2"
      },
      "outputs": [],
      "source": [
        "! unzip brain-mri-data.zip\n",
        "! ls"
      ]
    },
    {
      "cell_type": "code",
      "execution_count": null,
      "metadata": {
        "id": "6zFsWC_xQQ3B"
      },
      "outputs": [],
      "source": [
        "! ls Brain_Data_Organised"
      ]
    },
    {
      "cell_type": "markdown",
      "metadata": {
        "id": "dAqjGAlrKUh4"
      },
      "source": [
        "PREPROCESSING THE DATA"
      ]
    },
    {
      "cell_type": "code",
      "execution_count": null,
      "metadata": {
        "id": "zsn72K9EDywW"
      },
      "outputs": [],
      "source": [
        "def load_data(dir_list, image_size):\n",
        "    x_train = []\n",
        "    y_train= []\n",
        "    img_width, img_height = image_size\n",
        "\n",
        "    for directory in dir_list:\n",
        "        for filename in listdir(directory):\n",
        "            path = directory + '/' + filename\n",
        "            image = cv2.imread(path, 0)\n",
        "            image = cv2.resize(image, dsize=(img_width, img_height), interpolation=cv2.INTER_CUBIC)\n",
        "            image = cv2.cvtColor(image, cv2.COLOR_GRAY2RGB )\n",
        "            image = image / 255.0\n",
        "            x_train.append(image)\n",
        "            if directory[-6:] == 'Normal':\n",
        "                y_train.append([0])\n",
        "            else:\n",
        "                y_train.append([1])\n",
        "\n",
        "    x_train = np.array(x_train)\n",
        "    y_train = np.array(y_train)\n",
        "\n",
        "    # Shuffle the data\n",
        "    x_train, y_train = shuffle(x_train, y_train)\n",
        "    print(directory[-6:])\n",
        "    print(f'Number of examples is: {len(x_train)}')\n",
        "    print(f'X shape is: {x_train.shape}')\n",
        "    print(f'y shape is: {y_train.shape}')\n",
        "\n",
        "    return x_train, y_train"
      ]
    },
    {
      "cell_type": "code",
      "execution_count": null,
      "metadata": {
        "id": "0aBlU3koBgId"
      },
      "outputs": [],
      "source": [
        "path='/content/Brain_Data_Organised/Train/'\n",
        "path_normal=path + 'Normal'\n",
        "path_stroke=path + 'Stroke'\n",
        "IMG_WIDTH, IMG_HEIGHT = (224, 224)\n",
        "\n",
        "x_train, y_train = load_data([path_normal, path_stroke], (IMG_WIDTH, IMG_HEIGHT))"
      ]
    },
    {
      "cell_type": "markdown",
      "metadata": {
        "id": "YScW_8WL2Jj1"
      },
      "source": [
        "DATA SPLITING"
      ]
    },
    {
      "cell_type": "code",
      "execution_count": null,
      "metadata": {
        "id": "i_4eoI74y7R_"
      },
      "outputs": [],
      "source": [
        "x_train,x_val,y_train,y_val=train_test_split(x_train,y_train,test_size=0.2)"
      ]
    },
    {
      "cell_type": "code",
      "execution_count": null,
      "metadata": {
        "id": "6gHm3POElT6C"
      },
      "outputs": [],
      "source": [
        "print(x_train.shape)\n",
        "print(x_val.shape)\n",
        "print(y_train.shape)\n",
        "print(y_val.shape)\n",
        "#print(y_train[0:100])\n",
        "print(y_train[653])"
      ]
    },
    {
      "cell_type": "code",
      "source": [
        "y_train = to_categorical(y_train,2)\n",
        "y_val = to_categorical(y_val,2)"
      ],
      "metadata": {
        "id": "kuQzG3P0Zseg"
      },
      "execution_count": null,
      "outputs": []
    },
    {
      "cell_type": "markdown",
      "metadata": {
        "id": "BZvMjat-lA4O"
      },
      "source": [
        "VISUALIZE THE DATA"
      ]
    },
    {
      "cell_type": "code",
      "execution_count": null,
      "metadata": {
        "id": "PwYPBYP5mJdN"
      },
      "outputs": [],
      "source": [
        "plt.imshow(x_train[0],cmap=\"gray\")\n",
        "plt.show()\n",
        "print(x_train[0].shape)"
      ]
    },
    {
      "cell_type": "markdown",
      "metadata": {
        "id": "JeZaf0GgAlvX"
      },
      "source": [
        "BUILD THE MODEL"
      ]
    },
    {
      "cell_type": "code",
      "execution_count": null,
      "metadata": {
        "id": "mtAhfTvEJhTa"
      },
      "outputs": [],
      "source": [
        "model=Sequential()\n",
        "model.add(ZeroPadding2D(input_shape=(224,224,3),padding=(1,1)))\n",
        "model.add(Conv2D(filters=96,kernel_size=(7,7),strides=(2,2),padding='valid', activation='relu'))\n",
        "model.add(MaxPooling2D(pool_size =(3, 3),strides=(2,2),padding='same'))\n",
        "model.add(BatchNormalization(axis=-1))\n",
        "\n",
        "model.add(Conv2D(filters=256,kernel_size=(5,5),strides=(2,2),padding='valid', activation='relu'))\n",
        "model.add(MaxPooling2D(pool_size=(3,3),strides=(2,2),padding='same'))\n",
        "model.add(BatchNormalization(axis=-1))\n",
        "\n",
        "model.add(Conv2D(filters=384,kernel_size=(3,3),padding='same', activation='relu'))\n",
        "\n",
        "model.add(Conv2D(filters=384,kernel_size=(3,3),padding='same', activation='relu'))\n",
        "\n",
        "model.add(Conv2D(filters=256,kernel_size=(3,3),padding='same', activation='relu'))\n",
        "model.add(MaxPooling2D(pool_size=(3,3),strides=(2,2),padding='valid'))\n",
        "\n",
        "model.add(Flatten())\n",
        "model.add(Dense(4096))\n",
        "model.add(Dense(4096))\n",
        "model.add(Dense(2))\n",
        "model.add(Softmax(axis=-1))\n",
        "model.summary()"
      ]
    },
    {
      "cell_type": "markdown",
      "source": [
        "INCEPTION"
      ],
      "metadata": {
        "id": "Xk16U7buWa2p"
      }
    },
    {
      "cell_type": "code",
      "source": [
        "\n",
        "from tensorflow.keras.applications import InceptionV3\n",
        "\n",
        "inception = InceptionV3(weights='imagenet', include_top=False, input_shape=(224, 224, 3))\n",
        "\n",
        "output_layer = tf.keras.layers.Dense(2, activation='softmax')\n",
        "\n",
        "model = tf.keras.Sequential([inception, tf.keras.layers.GlobalAveragePooling2D(), output_layer])\n",
        "model.summary()\n"
      ],
      "metadata": {
        "id": "8UJifc8bWab0"
      },
      "execution_count": null,
      "outputs": []
    },
    {
      "cell_type": "code",
      "source": [
        "import tensorflow as tf\n",
        "from tensorflow.keras.applications import MobileNetV2\n",
        "\n",
        "# Load the pre-trained MobileNetV2 model\n",
        "mobilenet = MobileNetV2(weights='imagenet',include_top=False, input_shape=(224, 224, 3))\n",
        "\n",
        "output_layer = tf.keras.layers.Dense(2, activation='softmax')\n",
        "\n",
        "model = tf.keras.Sequential([mobilenet, tf.keras.layers.GlobalAveragePooling2D(), output_layer])\n",
        "model.summary()\n",
        "# Print the model summary\n",
        "print(mobilenet.summary())\n"
      ],
      "metadata": {
        "id": "yodfUl7uRD82"
      },
      "execution_count": null,
      "outputs": []
    },
    {
      "cell_type": "markdown",
      "metadata": {
        "id": "T2RcIB-7BBZl"
      },
      "source": [
        "TRAIN THE MODEL"
      ]
    },
    {
      "cell_type": "code",
      "execution_count": null,
      "metadata": {
        "id": "KWb-qza4tR-8"
      },
      "outputs": [],
      "source": [
        "opt = keras.optimizers.SGD(learning_rate=0.01)\n",
        "model.compile(optimizer=opt, loss='categorical_crossentropy', metrics=['accuracy'])"
      ]
    },
    {
      "cell_type": "code",
      "execution_count": null,
      "metadata": {
        "id": "Assv2Xyxetco"
      },
      "outputs": [],
      "source": [
        "#y_train=y_train.reshape(-1,)"
      ]
    },
    {
      "cell_type": "code",
      "source": [
        "def get_callbacks(model_name):\n",
        "    callbacks =[]\n",
        "    tensor_board = tf.keras.callbacks.TensorBoard(log_dir='./logs', histogram_freq=0)\n",
        "    callbacks.append(tensor_board)\n",
        "    checkpoint = tf.keras.callbacks.ModelCheckpoint(filepath=f'model.{model_name}.h5', verbose=1, monitor='val_loss',mode='min',save_best_only=True)\n",
        "    callbacks.append(checkpoint)\n",
        "    anne = ReduceLROnPlateau(monitor='val_loss', factor=0.5, patience=2, verbose=2, min_lr=0.0000001,min_delta=0.00001,mode='auto')\n",
        "    callbacks.append(anne)\n",
        "    return callbacks"
      ],
      "metadata": {
        "id": "tk8dw1SBCTH4"
      },
      "execution_count": null,
      "outputs": []
    },
    {
      "cell_type": "code",
      "source": [
        "callbacks = get_callbacks('model')\n",
        "model.fit( x_train,y_train,batch_size=16,epochs=10,validation_data= (x_val,y_val),callbacks=[callbacks])"
      ],
      "metadata": {
        "id": "BeLRtiujCeb_"
      },
      "execution_count": null,
      "outputs": []
    },
    {
      "cell_type": "markdown",
      "metadata": {
        "id": "wOlGBdaigWpL"
      },
      "source": [
        "GRAPH"
      ]
    },
    {
      "cell_type": "code",
      "source": [
        "history = model.history.history\n",
        "\n",
        "def plot_metrics(history):\n",
        "\n",
        "    train_loss = history['loss']\n",
        "    val_loss = history['val_loss']\n",
        "    train_acc = history['accuracy']\n",
        "    val_acc = history['val_accuracy']\n",
        "\n",
        "    # Loss\n",
        "    plt.figure()\n",
        "    plt.plot(train_loss, label='Training Loss')\n",
        "    plt.plot(val_loss, label='Validation Loss')\n",
        "    plt.title('Loss')\n",
        "    plt.legend()\n",
        "    plt.show()\n",
        "\n",
        "    # Accuracy\n",
        "    plt.figure()\n",
        "    plt.plot(train_acc, label='Training Accuracy')\n",
        "    plt.plot(val_acc, label='Validation Accuracy')\n",
        "    plt.title('Accuracy')\n",
        "    plt.legend()\n",
        "    plt.show()"
      ],
      "metadata": {
        "id": "5BwtUlyuSEIh"
      },
      "execution_count": null,
      "outputs": []
    },
    {
      "cell_type": "code",
      "source": [
        "plot_metrics(history)"
      ],
      "metadata": {
        "id": "gvVdVLc6xRH1"
      },
      "execution_count": null,
      "outputs": []
    },
    {
      "cell_type": "markdown",
      "metadata": {
        "id": "WMYyknkrgJEk"
      },
      "source": [
        "TEST"
      ]
    },
    {
      "cell_type": "code",
      "source": [
        "classes={ 0:'Normal',1:'Stroke'}"
      ],
      "metadata": {
        "id": "-tMztycotzke"
      },
      "execution_count": null,
      "outputs": []
    },
    {
      "cell_type": "code",
      "execution_count": null,
      "metadata": {
        "id": "e7exOR2tj5e6"
      },
      "outputs": [],
      "source": [
        "#y=np.expand_dims(x_train[653],0)\n",
        "x=plt.imread('/content/Brain_Data_Organised/Test/Normal/100 (21).jpg',0)\n",
        "x=cv2.cvtColor(x, cv2.COLOR_GRAY2RGB )\n",
        "x=cv2.resize(x, dsize=(224,224), interpolation=cv2.INTER_CUBIC)\n",
        "x = x / 255.0\n",
        "x=np.array(x)\n",
        "plt.imshow(x)\n",
        "plt.show()\n",
        "y=np.expand_dims(x,0)\n",
        "h= model.predict(y)\n",
        "a=np.argmax(h)\n",
        "print(classes[a])"
      ]
    },
    {
      "cell_type": "markdown",
      "source": [
        "ROUGH"
      ],
      "metadata": {
        "id": "OwBAHo1UZs3s"
      }
    },
    {
      "cell_type": "code",
      "source": [
        "def net(img_shape):\n",
        "  input = Input(img_shape)\n",
        "\n",
        "  x1 = Conv2D(64, 7, strides=2, padding='same')(input)\n",
        "  x2 = MaxPool2D(3, strides=2, padding='same')(x1)\n",
        "\n",
        "  x = BatchNormalization()(x2)\n",
        "  x = ReLU()(x)\n",
        "  x = Conv2D(filters=128, kernel_size=(1,1), strides=(1,1), padding='same')(x)\n",
        "  x = BatchNormalization()(x)\n",
        "  x = ReLU()(x)\n",
        "  x = Conv2D(filters=32, kernel_size=(3,3), strides=(1,1), padding='same')(x)\n",
        "  x3= Concatenate()([x2, x])\n",
        "\n",
        "  x = BatchNormalization()(x3)\n",
        "  x = ReLU()(x)\n",
        "  x = Conv2D(filters=128, kernel_size=(1,1), strides=(1,1), padding='same')(x)\n",
        "  x = BatchNormalization()(x)\n",
        "  x = ReLU()(x)\n",
        "  x = Conv2D(filters=32, kernel_size=(3,3), strides=(1,1), padding='same')(x)\n",
        "  x4= Concatenate()([x3, x])\n",
        "\n",
        "  x = BatchNormalization()(x4)\n",
        "  x = ReLU()(x)\n",
        "  x = Conv2D(filters=128, kernel_size=(1,1), strides=(1,1), padding='same')(x)\n",
        "  x = BatchNormalization()(x)\n",
        "  x = ReLU()(x)\n",
        "  x = Conv2D(filters=32, kernel_size=(3,3), strides=(1,1), padding='same')(x)\n",
        "  x5= Concatenate()([x4, x])\n",
        "\n",
        "  x = BatchNormalization()(x5)\n",
        "  x = ReLU()(x)\n",
        "  x = Conv2D(filters=128, kernel_size=(1,1), strides=(1,1), padding='same')(x)\n",
        "  x = BatchNormalization()(x)\n",
        "  x = ReLU()(x)\n",
        "  x = Conv2D(filters=32, kernel_size=(3,3), strides=(1,1), padding='same')(x)\n",
        "  x6= Concatenate()([x5, x])\n",
        "\n",
        "  x = BatchNormalization()(x6)\n",
        "  x = ReLU()(x)\n",
        "  x = Conv2D(filters=128, kernel_size=(1,1), strides=(1,1), padding='same')(x)\n",
        "  x = BatchNormalization()(x)\n",
        "  x = ReLU()(x)\n",
        "  x = Conv2D(filters=32, kernel_size=(3,3), strides=(1,1), padding='same')(x)\n",
        "  x7= Concatenate()([x6, x])\n",
        "\n",
        "  x = BatchNormalization()(x7)\n",
        "  x = ReLU()(x)\n",
        "  x = Conv2D(filters=128, kernel_size=(1,1), strides=(1,1), padding='same')(x)\n",
        "  x = BatchNormalization()(x)\n",
        "  x = ReLU()(x)\n",
        "  x = Conv2D(filters=32, kernel_size=(3,3), strides=(1,1), padding='same')(x)\n",
        "  x8= Concatenate()([x7, x])\n",
        "\n",
        "  x = BatchNormalization()(x8)\n",
        "  x = ReLU()(x)\n",
        "  x = Conv2D(filters=32, kernel_size=(1,1), strides=(1,1), padding='same')(x)\n",
        "  x9 = AvgPool2D(pool_size=(2,2),strides=(2,2), padding='same')(x)\n",
        "\n",
        "  x = BatchNormalization()(x9)\n",
        "  x = ReLU()(x)\n",
        "  x = Conv2D(filters=128, kernel_size=(1,1), strides=(1,1), padding='same')(x)\n",
        "  x = BatchNormalization()(x)\n",
        "  x = ReLU()(x)\n",
        "  x = Conv2D(filters=32, kernel_size=(3,3), strides=(1,1), padding='same')(x)\n",
        "  x10= Concatenate()([x9, x])\n",
        "\n",
        "  x = BatchNormalization()(x10)\n",
        "  x = ReLU()(x)\n",
        "  x = Conv2D(filters=128, kernel_size=(1,1), strides=(1,1), padding='same')(x)\n",
        "  x = BatchNormalization()(x)\n",
        "  x = ReLU()(x)\n",
        "  x = Conv2D(filters=32, kernel_size=(3,3), strides=(1,1), padding='same')(x)\n",
        "  x11= Concatenate()([x10, x])\n",
        "\n",
        "  x = BatchNormalization()(x11)\n",
        "  x = ReLU()(x)\n",
        "  x = Conv2D(filters=128, kernel_size=(1,1), strides=(1,1), padding='same')(x)\n",
        "  x = BatchNormalization()(x)\n",
        "  x = ReLU()(x)\n",
        "  x = Conv2D(filters=32, kernel_size=(3,3), strides=(1,1), padding='same')(x)\n",
        "  x12= Concatenate()([x11, x])\n",
        "\n",
        "  x = BatchNormalization()(x12)\n",
        "  x = ReLU()(x)\n",
        "  x = Conv2D(filters=128, kernel_size=(1,1), strides=(1,1), padding='same')(x)\n",
        "  x = BatchNormalization()(x)\n",
        "  x = ReLU()(x)\n",
        "  x = Conv2D(filters=32, kernel_size=(3,3), strides=(1,1), padding='same')(x)\n",
        "  x13= Concatenate()([x12, x])\n",
        "\n",
        "  x = BatchNormalization()(x13)\n",
        "  x = ReLU()(x)\n",
        "  x = Conv2D(filters=128, kernel_size=(1,1), strides=(1,1), padding='same')(x)\n",
        "  x = BatchNormalization()(x)\n",
        "  x = ReLU()(x)\n",
        "  x = Conv2D(filters=32, kernel_size=(3,3), strides=(1,1), padding='same')(x)\n",
        "  x14= Concatenate()([x13, x])\n",
        "\n",
        "  x = BatchNormalization()(x14)\n",
        "  x = ReLU()(x)\n",
        "  x = Conv2D(filters=128, kernel_size=(1,1), strides=(1,1), padding='same')(x)\n",
        "  x = BatchNormalization()(x)\n",
        "  x = ReLU()(x)\n",
        "  x = Conv2D(filters=32, kernel_size=(3,3), strides=(1,1), padding='same')(x)\n",
        "  x15= Concatenate()([x14, x])\n",
        "\n",
        "  x = GlobalAvgPool2D()(x15)\n",
        "  output = Dense(2,activation='softmax')(x)\n",
        "  model = Model(input, output)\n",
        "  return model\n",
        "model=net((224,224,3))\n",
        "model.summary()\n"
      ],
      "metadata": {
        "id": "1HRtaAoUbTp7"
      },
      "execution_count": null,
      "outputs": []
    },
    {
      "cell_type": "code",
      "source": [
        "img = keras.preprocessing.image.load_img(\"/content/Brain_Data_Organised/Test/Normal/100 (21).jpg\", target_size=(224,224,3))\n",
        "img_array = keras.preprocessing.image.img_to_array(img)\n",
        "img_array = tf.expand_dims(img_array, 0)  # Create batch axis\n",
        "\n",
        "predictions = model.predict(img_array)\n",
        "score = predictions[0]\n",
        "print(\"This image is %.2f percent cat and %.2f percent dog.\" % (100 * (1 - score), 100 * score))"
      ],
      "metadata": {
        "id": "tVO4FXWwMawB"
      },
      "execution_count": null,
      "outputs": []
    },
    {
      "cell_type": "code",
      "source": [
        "def densenet(img_shape, n_classes, f=32):\n",
        "  repetitions = 6, 12\n",
        "\n",
        "  def bn_rl_conv(x, f, k=1, s=1, p='same'):\n",
        "    x = BatchNormalization()(x)\n",
        "    x = ReLU()(x)\n",
        "    x = Conv2D(f, k, strides=s, padding=p)(x)\n",
        "    return x\n",
        "\n",
        "\n",
        "  def dense_block(tensor, r):\n",
        "    for _ in range(r):\n",
        "      x = bn_rl_conv(tensor, 4*f)\n",
        "      x = bn_rl_conv(x, f, 3)\n",
        "      tensor = Concatenate()([tensor, x])\n",
        "    return tensor\n",
        "\n",
        "\n",
        "  def transition_block(x):\n",
        "    x = bn_rl_conv(x, K.int_shape(x)[-1] // 2)\n",
        "    x = AvgPool2D(2, strides=2, padding='same')(x)\n",
        "    return x\n",
        "\n",
        "\n",
        "  input = Input(img_shape)\n",
        "\n",
        "  x = Conv2D(64, 7, strides=2, padding='same')(input)\n",
        "  x = MaxPool2D(3, strides=2, padding='same')(x)\n",
        "\n",
        "  for r in repetitions:\n",
        "    d = dense_block(x, r)\n",
        "    x = transition_block(d)\n",
        "\n",
        "  x = GlobalAvgPool2D()(d)\n",
        "\n",
        "  output = Dense(n_classes, activation='softmax')(x)\n",
        "\n",
        "  model = Model(input, output)\n",
        "  return model\n",
        "K.clear_session()\n",
        "model=densenet((224,224,3),2,f=32)\n",
        "model.summary()"
      ],
      "metadata": {
        "id": "2IFNckKF7uZ-"
      },
      "execution_count": null,
      "outputs": []
    },
    {
      "cell_type": "code",
      "source": [
        "model = Sequential()\n",
        "model.add(Conv2D(32, (3, 3), input_shape = (224, 224, 3), activation = 'sigmoid'))\n",
        "model.add(MaxPooling2D(pool_size = (2, 2)))\n",
        "model.add(Conv2D(64, (3, 3), activation = 'sigmoid'))\n",
        "model.add(Conv2D(32, (3, 3), activation = 'sigmoid'))\n",
        "model.add(Conv2D(18, (3, 3), activation = 'sigmoid'))\n",
        "model.add(Conv2D(16, (3, 3), activation = 'sigmoid'))\n",
        "model.add(Conv2D(14, (3, 3), activation = 'tanh'))\n",
        "model.add(MaxPooling2D(pool_size = (2, 2)))\n",
        "model.add(Conv2D(128, (3, 3), activation = 'tanh'))\n",
        "model.add(MaxPooling2D(pool_size = (2, 2)))\n",
        "model.add(Conv2D(256, (3, 3), activation = 'tanh'))\n",
        "model.add(MaxPooling2D(pool_size = (2, 2)))\n",
        "model.add(Flatten())\n",
        "model.add(Dense(units = 150, activation = 'tanh'))\n",
        "model.add(Dropout(0.25))\n",
        "model.add(Dense(units = 2, activation = 'sigmoid'))\n",
        "\n",
        "opt = keras.optimizers.Adam(learning_rate=0.01)\n",
        "model.compile(optimizer = opt, loss = 'sparse_categorical_crossentropy', metrics = ['accuracy'])"
      ],
      "metadata": {
        "id": "ahFMDbQOeF0D"
      },
      "execution_count": null,
      "outputs": []
    },
    {
      "cell_type": "code",
      "execution_count": null,
      "metadata": {
        "id": "FsvCwwKZ8Ly_"
      },
      "outputs": [],
      "source": [
        "model.summary()"
      ]
    },
    {
      "cell_type": "code",
      "execution_count": null,
      "metadata": {
        "id": "IoFIT1ga8It6"
      },
      "outputs": [],
      "source": [
        "model.fit(x_train, y_train, batch_size=32, epochs=10,validation_data=(x_val, y_val),)"
      ]
    },
    {
      "cell_type": "code",
      "source": [
        "data_augmentation = keras.Sequential(\n",
        "  [\n",
        "    layers.RandomFlip(\"horizontal\",input_shape=(224, 224, 3)),\n",
        "    layers.RandomRotation(0.1),\n",
        "    layers.RandomZoom(0.1),\n",
        "  ]\n",
        ")"
      ],
      "metadata": {
        "id": "0IHqzfZxbyqk"
      },
      "execution_count": null,
      "outputs": []
    },
    {
      "cell_type": "code",
      "source": [
        "model=Sequential()\n",
        "model.add(data_augmentation)\n",
        "model.add(ZeroPadding2D(padding=(1,1)))\n",
        "model.add(Conv2D(filters=96,kernel_size=(7,7),strides=(2,2),padding='valid', activation='sigmoid'))\n",
        "model.add(MaxPooling2D(pool_size =(3, 3),strides=(2,2),padding='same'))\n",
        "model.add(LayerNormalization(axis=-1))\n",
        "\n",
        "model.add(Conv2D(filters=256,kernel_size=(5,5),strides=(2,2),padding='valid', activation='sigmoid'))\n",
        "model.add(MaxPooling2D(pool_size=(3,3),strides=(2,2),padding='same'))\n",
        "model.add(LayerNormalization(axis=-1))\n",
        "\n",
        "model.add(Conv2D(filters=384,kernel_size=(3,3),padding='same', activation='sigmoid'))\n",
        "\n",
        "model.add(Conv2D(filters=384,kernel_size=(3,3),padding='same', activation='relu'))\n",
        "\n",
        "model.add(Conv2D(filters=256,kernel_size=(3,3),padding='same', activation='sigmoid'))\n",
        "model.add(MaxPooling2D(pool_size=(3,3),strides=(2,2),padding='valid'))\n",
        "\n",
        "model.add(Flatten())\n",
        "model.add(Dense(4096))\n",
        "model.add(Dropout(0.2))\n",
        "model.add(Dense(4096))\n",
        "model.add(Dense(2))\n",
        "model.add(Softmax(axis=-1))"
      ],
      "metadata": {
        "id": "i_Hogmn3YQrc"
      },
      "execution_count": null,
      "outputs": []
    },
    {
      "cell_type": "code",
      "source": [
        "data_augmentation = keras.Sequential(\n",
        "    [\n",
        "        layers.RandomFlip(\"horizontal\"),\n",
        "        layers.RandomRotation(0.1),\n",
        "    ]\n",
        ")"
      ],
      "metadata": {
        "id": "4E8Gjsccb2g2"
      },
      "execution_count": null,
      "outputs": []
    },
    {
      "cell_type": "code",
      "source": [
        "data_augmentation = keras.Sequential(\n",
        "    [\n",
        "        layers.experimental.preprocessing.RandomFlip(\"horizontal\"),\n",
        "        layers.experimental.preprocessing.RandomRotation(0.1),\n",
        "        layers.experimental.preprocessing.RandomZoom(height_factor=(0.2, 0.3), width_factor=None, fill_mode='reflect',\n",
        "        interpolation='bilinear', seed=None, fill_value=0.0),\n",
        "                layers.experimental.preprocessing.RandomCrop(height= 224, width = 224, seed=None),\n",
        "    ]\n",
        ")"
      ],
      "metadata": {
        "id": "8_7bzZYcjMDk"
      },
      "execution_count": null,
      "outputs": []
    },
    {
      "cell_type": "code",
      "source": [
        "OPTIMIZER =Adam(learning_rate=0.001, beta_1=0.9, beta_2=0.999)\n",
        "base_model = tf.keras.applications.DenseNet121(input_shape=IMG_SHAPE,include_top=False,weights='imagenet')\n",
        "#base_model = tf.keras.applications.VGG16(input_shape=IMG_SHAPE,include_top=False,weights='imagenet')\n",
        "base_model.trainable = True\n",
        "x = base_model.output\n",
        "x = GlobalAveragePooling2D()(x)\n",
        "predictions = Dense(1, activation='sigmoid',name='Final')(x)\n",
        "model = Model(inputs=base_model.input, outputs=predictions)\n",
        "#model.load_weights(dire)\n",
        "model.compile(loss ='binary_crossentropy',optimizer=OPTIMIZER,metrics=METRICS)"
      ],
      "metadata": {
        "id": "iH9HQa7NjjY9"
      },
      "execution_count": null,
      "outputs": []
    },
    {
      "cell_type": "code",
      "source": [
        "height=224\n",
        "width=224\n",
        "channels=3\n",
        "def network(input_size=(224,224,3)):\n",
        "   inputs=Input(input_size)\n",
        "   x1=data_augmentation(inputs)\n",
        "   x1=ZeroPadding2D(input_shape=(224,224,3),padding=(1,1))(x1)\n",
        "   c1=Conv2D(filters=96,kernel_size=(7,7),strides=(2,2),padding='valid', activation='sigmoid')(x1)\n",
        "   p1=MaxPooling2D(pool_size =(3, 3),strides=(2,2),padding='same')(c1)\n",
        "   n1=LayerNormalization(axis=-1)(p1)\n",
        "\n",
        "   c2=Conv2D(filters=256,kernel_size=(5,5),strides=(2,2),padding='valid', activation='sigmoid')(n1)\n",
        "   p2=MaxPooling2D(pool_size=(3,3),strides=(2,2),padding='same')(c2)\n",
        "   n2=LayerNormalization(axis=-1)(p2)\n",
        "\n",
        "   c3=Conv2D(filters=384,kernel_size=(3,3),padding='same', activation='relu')(n2)\n",
        "\n",
        "   c4=Conv2D(filters=384,kernel_size=(3,3),padding='same', activation='sigmoid')(c3)\n",
        "\n",
        "   c5=Conv2D(filters=256,kernel_size=(3,3),padding='same', activation='sigmoid')(c4)\n",
        "   p3=MaxPooling2D(pool_size=(3,3),strides=(2,2),padding='valid')(c5)\n",
        "\n",
        "\n",
        "   x3=ZeroPadding2D(input_shape=(224,224,3),padding=(2,2))(inputs)\n",
        "   c6=Conv2D(filters=96,kernel_size=(11,11),strides=(4,4),padding='valid', activation='sigmoid')(x3)\n",
        "   p4=MaxPooling2D(pool_size =(3, 3),strides=(2,2),padding='valid')(c6)\n",
        "   n3=LayerNormalization(axis=-1)(p4)\n",
        "\n",
        "   c7=Conv2D(filters=256,kernel_size=(5,5),strides=(1,1),padding='same', activation='sigmoid')(n3)\n",
        "   p5=MaxPooling2D(pool_size=(3,3),strides=(2,2),padding='valid')(c7)\n",
        "   n4=LayerNormalization(axis=-1)(p5)\n",
        "\n",
        "   c8=Conv2D(filters=384,kernel_size=(3,3),padding='same', activation='relu')(n4)\n",
        "\n",
        "   c9=Conv2D(filters=384,kernel_size=(3,3),padding='same', activation='sigmoid')(c8)\n",
        "\n",
        "   c10=Conv2D(filters=256,kernel_size=(3,3),padding='same', activation='sigmoid')(c9)\n",
        "   p6=MaxPooling2D(pool_size=(3,3),strides=(2,2),padding='valid')(c10)\n",
        "   concat=Concatenate()([p3,p6])\n",
        "   #c11=c10=Conv2D(filters=1,kernel_size=(1,1),padding='same', activation='relu')(concat)\n",
        "\n",
        "   x2=Flatten()(concat)\n",
        "   x2=Dropout(0.5)(x2)\n",
        "   x2=Dense(4096)(x2)\n",
        "   x2=Dropout(0.5)(x2)\n",
        "   x2=Dense(4096)(x2)\n",
        "   x2=Dense(2,activation=\"softmax\")(x2)\n",
        "   return Model(inputs=[inputs],outputs=[x2])\n",
        "model=network()\n",
        "model.summary()"
      ],
      "metadata": {
        "id": "Rnlmokx7bIhq"
      },
      "execution_count": null,
      "outputs": []
    }
  ],
  "metadata": {
    "accelerator": "GPU",
    "colab": {
      "provenance": [],
      "include_colab_link": true
    },
    "kernelspec": {
      "display_name": "Python 3",
      "name": "python3"
    },
    "language_info": {
      "name": "python"
    }
  },
  "nbformat": 4,
  "nbformat_minor": 0
}